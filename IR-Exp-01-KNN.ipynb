{
 "cells": [
  {
   "cell_type": "code",
   "execution_count": 1,
   "id": "59f3de7c-4f11-4aa8-b5b3-0c11564e1f65",
   "metadata": {
    "tags": []
   },
   "outputs": [],
   "source": [
    "import pandas as pd\n",
    "import math"
   ]
  },
  {
   "cell_type": "code",
   "execution_count": 2,
   "id": "a3459aa3-6ac5-4014-b98f-2f0f47f2a934",
   "metadata": {
    "tags": []
   },
   "outputs": [],
   "source": [
    "data_training = {\n",
    "                    'doc1' : ['Chinese', 'Beijing', 'Chinese'], \n",
    "                    'doc2' : ['Chinese', 'Chinese', 'Shanghai', 'Tokyo'], \n",
    "                    'doc3' : ['Chinese', 'Macao'],\n",
    "                    'doc4' : ['Tokyo', 'Japan', 'Chinese'],\n",
    "                }\n",
    "data_testing = {\n",
    "                    'doc5' : ['Chinese', 'Chinese', 'Chinese', 'Japan', 'Tokyo'],\n",
    "               }\n"
   ]
  },
  {
   "cell_type": "code",
   "execution_count": 3,
   "id": "d6487316-32e9-4093-89ef-ff310b85e653",
   "metadata": {
    "tags": []
   },
   "outputs": [
    {
     "data": {
      "text/plain": [
       "{'doc1': ['Chinese', 'Beijing', 'Chinese'],\n",
       " 'doc2': ['Chinese', 'Chinese', 'Shanghai', 'Tokyo'],\n",
       " 'doc3': ['Chinese', 'Macao'],\n",
       " 'doc4': ['Tokyo', 'Japan', 'Chinese']}"
      ]
     },
     "execution_count": 3,
     "metadata": {},
     "output_type": "execute_result"
    }
   ],
   "source": [
    "data_training"
   ]
  },
  {
   "cell_type": "code",
   "execution_count": 4,
   "id": "78821c8d-1be3-4df7-97c0-38dfb69347d5",
   "metadata": {
    "tags": []
   },
   "outputs": [
    {
     "data": {
      "text/plain": [
       "{'doc5': ['Chinese', 'Chinese', 'Chinese', 'Japan', 'Tokyo']}"
      ]
     },
     "execution_count": 4,
     "metadata": {},
     "output_type": "execute_result"
    }
   ],
   "source": [
    "data_testing"
   ]
  },
  {
   "cell_type": "code",
   "execution_count": 5,
   "id": "8197fc14-aa62-4160-97e7-ee797e354f89",
   "metadata": {
    "tags": []
   },
   "outputs": [
    {
     "data": {
      "text/plain": [
       "{'doc1': ['Chinese', 'Beijing', 'Chinese'],\n",
       " 'doc2': ['Chinese', 'Chinese', 'Shanghai', 'Tokyo'],\n",
       " 'doc3': ['Chinese', 'Macao'],\n",
       " 'doc4': ['Tokyo', 'Japan', 'Chinese'],\n",
       " 'doc5': ['Chinese', 'Chinese', 'Chinese', 'Japan', 'Tokyo']}"
      ]
     },
     "execution_count": 5,
     "metadata": {},
     "output_type": "execute_result"
    }
   ],
   "source": [
    "data_full = data_training | data_testing\n",
    "data_full"
   ]
  },
  {
   "cell_type": "code",
   "execution_count": 6,
   "id": "c1d2271a-fad7-43ad-8abd-b8dcf705caf3",
   "metadata": {
    "tags": []
   },
   "outputs": [
    {
     "data": {
      "text/plain": [
       "['Macao', 'Chinese', 'Japan', 'Beijing', 'Tokyo', 'Shanghai']"
      ]
     },
     "execution_count": 6,
     "metadata": {},
     "output_type": "execute_result"
    }
   ],
   "source": [
    "list_of_terms = list(set([t for doc, term in data_full.items() for t in term]))\n",
    "list_of_terms"
   ]
  },
  {
   "cell_type": "code",
   "execution_count": 7,
   "id": "85a534a3-d729-4ff7-aea7-f0ab5cd56583",
   "metadata": {
    "tags": []
   },
   "outputs": [
    {
     "data": {
      "text/plain": [
       "{'doc1': {'Macao': 0,\n",
       "  'Chinese': 2,\n",
       "  'Japan': 0,\n",
       "  'Beijing': 1,\n",
       "  'Tokyo': 0,\n",
       "  'Shanghai': 0},\n",
       " 'doc2': {'Macao': 0,\n",
       "  'Chinese': 2,\n",
       "  'Japan': 0,\n",
       "  'Beijing': 0,\n",
       "  'Tokyo': 1,\n",
       "  'Shanghai': 1},\n",
       " 'doc3': {'Macao': 1,\n",
       "  'Chinese': 1,\n",
       "  'Japan': 0,\n",
       "  'Beijing': 0,\n",
       "  'Tokyo': 0,\n",
       "  'Shanghai': 0},\n",
       " 'doc4': {'Macao': 0,\n",
       "  'Chinese': 1,\n",
       "  'Japan': 1,\n",
       "  'Beijing': 0,\n",
       "  'Tokyo': 1,\n",
       "  'Shanghai': 0},\n",
       " 'doc5': {'Macao': 0,\n",
       "  'Chinese': 3,\n",
       "  'Japan': 1,\n",
       "  'Beijing': 0,\n",
       "  'Tokyo': 1,\n",
       "  'Shanghai': 0}}"
      ]
     },
     "execution_count": 7,
     "metadata": {},
     "output_type": "execute_result"
    }
   ],
   "source": [
    "tdm = {}\n",
    "for docs, terms in data_full.items():\n",
    "    term_counts = {term: 0 for term in list_of_terms}\n",
    "    for term in terms:\n",
    "        if term in term_counts: \n",
    "            term_counts[term] += 1\n",
    "    tdm[docs] = term_counts\n",
    "tdm"
   ]
  },
  {
   "cell_type": "code",
   "execution_count": 8,
   "id": "bc90c8de-acab-4194-98aa-f9ec66da8dcd",
   "metadata": {
    "tags": []
   },
   "outputs": [
    {
     "data": {
      "text/html": [
       "<div>\n",
       "<style scoped>\n",
       "    .dataframe tbody tr th:only-of-type {\n",
       "        vertical-align: middle;\n",
       "    }\n",
       "\n",
       "    .dataframe tbody tr th {\n",
       "        vertical-align: top;\n",
       "    }\n",
       "\n",
       "    .dataframe thead th {\n",
       "        text-align: right;\n",
       "    }\n",
       "</style>\n",
       "<table border=\"1\" class=\"dataframe\">\n",
       "  <thead>\n",
       "    <tr style=\"text-align: right;\">\n",
       "      <th></th>\n",
       "      <th>doc1</th>\n",
       "      <th>doc2</th>\n",
       "      <th>doc3</th>\n",
       "      <th>doc4</th>\n",
       "      <th>doc5</th>\n",
       "    </tr>\n",
       "  </thead>\n",
       "  <tbody>\n",
       "    <tr>\n",
       "      <th>Macao</th>\n",
       "      <td>0</td>\n",
       "      <td>0</td>\n",
       "      <td>1</td>\n",
       "      <td>0</td>\n",
       "      <td>0</td>\n",
       "    </tr>\n",
       "    <tr>\n",
       "      <th>Chinese</th>\n",
       "      <td>2</td>\n",
       "      <td>2</td>\n",
       "      <td>1</td>\n",
       "      <td>1</td>\n",
       "      <td>3</td>\n",
       "    </tr>\n",
       "    <tr>\n",
       "      <th>Japan</th>\n",
       "      <td>0</td>\n",
       "      <td>0</td>\n",
       "      <td>0</td>\n",
       "      <td>1</td>\n",
       "      <td>1</td>\n",
       "    </tr>\n",
       "    <tr>\n",
       "      <th>Beijing</th>\n",
       "      <td>1</td>\n",
       "      <td>0</td>\n",
       "      <td>0</td>\n",
       "      <td>0</td>\n",
       "      <td>0</td>\n",
       "    </tr>\n",
       "    <tr>\n",
       "      <th>Tokyo</th>\n",
       "      <td>0</td>\n",
       "      <td>1</td>\n",
       "      <td>0</td>\n",
       "      <td>1</td>\n",
       "      <td>1</td>\n",
       "    </tr>\n",
       "    <tr>\n",
       "      <th>Shanghai</th>\n",
       "      <td>0</td>\n",
       "      <td>1</td>\n",
       "      <td>0</td>\n",
       "      <td>0</td>\n",
       "      <td>0</td>\n",
       "    </tr>\n",
       "  </tbody>\n",
       "</table>\n",
       "</div>"
      ],
      "text/plain": [
       "          doc1  doc2  doc3  doc4  doc5\n",
       "Macao        0     0     1     0     0\n",
       "Chinese      2     2     1     1     3\n",
       "Japan        0     0     0     1     1\n",
       "Beijing      1     0     0     0     0\n",
       "Tokyo        0     1     0     1     1\n",
       "Shanghai     0     1     0     0     0"
      ]
     },
     "execution_count": 8,
     "metadata": {},
     "output_type": "execute_result"
    }
   ],
   "source": [
    "df_tdm = pd.DataFrame(tdm)\n",
    "df_tdm"
   ]
  },
  {
   "cell_type": "code",
   "execution_count": 9,
   "id": "a4d9aa7b-30a1-4bb8-8e8f-7bb0093fa6a7",
   "metadata": {
    "tags": []
   },
   "outputs": [
    {
     "data": {
      "text/html": [
       "<div>\n",
       "<style scoped>\n",
       "    .dataframe tbody tr th:only-of-type {\n",
       "        vertical-align: middle;\n",
       "    }\n",
       "\n",
       "    .dataframe tbody tr th {\n",
       "        vertical-align: top;\n",
       "    }\n",
       "\n",
       "    .dataframe thead th {\n",
       "        text-align: right;\n",
       "    }\n",
       "</style>\n",
       "<table border=\"1\" class=\"dataframe\">\n",
       "  <thead>\n",
       "    <tr style=\"text-align: right;\">\n",
       "      <th></th>\n",
       "      <th>Macao</th>\n",
       "      <th>Chinese</th>\n",
       "      <th>Japan</th>\n",
       "      <th>Beijing</th>\n",
       "      <th>Tokyo</th>\n",
       "      <th>Shanghai</th>\n",
       "    </tr>\n",
       "  </thead>\n",
       "  <tbody>\n",
       "    <tr>\n",
       "      <th>doc1</th>\n",
       "      <td>0</td>\n",
       "      <td>2</td>\n",
       "      <td>0</td>\n",
       "      <td>1</td>\n",
       "      <td>0</td>\n",
       "      <td>0</td>\n",
       "    </tr>\n",
       "    <tr>\n",
       "      <th>doc2</th>\n",
       "      <td>0</td>\n",
       "      <td>2</td>\n",
       "      <td>0</td>\n",
       "      <td>0</td>\n",
       "      <td>1</td>\n",
       "      <td>1</td>\n",
       "    </tr>\n",
       "    <tr>\n",
       "      <th>doc3</th>\n",
       "      <td>1</td>\n",
       "      <td>1</td>\n",
       "      <td>0</td>\n",
       "      <td>0</td>\n",
       "      <td>0</td>\n",
       "      <td>0</td>\n",
       "    </tr>\n",
       "    <tr>\n",
       "      <th>doc4</th>\n",
       "      <td>0</td>\n",
       "      <td>1</td>\n",
       "      <td>1</td>\n",
       "      <td>0</td>\n",
       "      <td>1</td>\n",
       "      <td>0</td>\n",
       "    </tr>\n",
       "    <tr>\n",
       "      <th>doc5</th>\n",
       "      <td>0</td>\n",
       "      <td>3</td>\n",
       "      <td>1</td>\n",
       "      <td>0</td>\n",
       "      <td>1</td>\n",
       "      <td>0</td>\n",
       "    </tr>\n",
       "  </tbody>\n",
       "</table>\n",
       "</div>"
      ],
      "text/plain": [
       "      Macao  Chinese  Japan  Beijing  Tokyo  Shanghai\n",
       "doc1      0        2      0        1      0         0\n",
       "doc2      0        2      0        0      1         1\n",
       "doc3      1        1      0        0      0         0\n",
       "doc4      0        1      1        0      1         0\n",
       "doc5      0        3      1        0      1         0"
      ]
     },
     "execution_count": 9,
     "metadata": {},
     "output_type": "execute_result"
    }
   ],
   "source": [
    "df_tdm_transpose = df_tdm.T\n",
    "df_tdm_transpose"
   ]
  },
  {
   "cell_type": "code",
   "execution_count": 10,
   "id": "ed074593-888e-4830-a0c1-36efd3d98d83",
   "metadata": {
    "tags": []
   },
   "outputs": [
    {
     "data": {
      "text/html": [
       "<div>\n",
       "<style scoped>\n",
       "    .dataframe tbody tr th:only-of-type {\n",
       "        vertical-align: middle;\n",
       "    }\n",
       "\n",
       "    .dataframe tbody tr th {\n",
       "        vertical-align: top;\n",
       "    }\n",
       "\n",
       "    .dataframe thead th {\n",
       "        text-align: right;\n",
       "    }\n",
       "</style>\n",
       "<table border=\"1\" class=\"dataframe\">\n",
       "  <thead>\n",
       "    <tr style=\"text-align: right;\">\n",
       "      <th></th>\n",
       "      <th>Macao</th>\n",
       "      <th>Chinese</th>\n",
       "      <th>Japan</th>\n",
       "      <th>Beijing</th>\n",
       "      <th>Tokyo</th>\n",
       "      <th>Shanghai</th>\n",
       "      <th>Class</th>\n",
       "    </tr>\n",
       "  </thead>\n",
       "  <tbody>\n",
       "    <tr>\n",
       "      <th>doc1</th>\n",
       "      <td>0</td>\n",
       "      <td>2</td>\n",
       "      <td>0</td>\n",
       "      <td>1</td>\n",
       "      <td>0</td>\n",
       "      <td>0</td>\n",
       "      <td>Yes</td>\n",
       "    </tr>\n",
       "    <tr>\n",
       "      <th>doc2</th>\n",
       "      <td>0</td>\n",
       "      <td>2</td>\n",
       "      <td>0</td>\n",
       "      <td>0</td>\n",
       "      <td>1</td>\n",
       "      <td>1</td>\n",
       "      <td>Yes</td>\n",
       "    </tr>\n",
       "    <tr>\n",
       "      <th>doc3</th>\n",
       "      <td>1</td>\n",
       "      <td>1</td>\n",
       "      <td>0</td>\n",
       "      <td>0</td>\n",
       "      <td>0</td>\n",
       "      <td>0</td>\n",
       "      <td>Yes</td>\n",
       "    </tr>\n",
       "    <tr>\n",
       "      <th>doc4</th>\n",
       "      <td>0</td>\n",
       "      <td>1</td>\n",
       "      <td>1</td>\n",
       "      <td>0</td>\n",
       "      <td>1</td>\n",
       "      <td>0</td>\n",
       "      <td>No</td>\n",
       "    </tr>\n",
       "    <tr>\n",
       "      <th>doc5</th>\n",
       "      <td>0</td>\n",
       "      <td>3</td>\n",
       "      <td>1</td>\n",
       "      <td>0</td>\n",
       "      <td>1</td>\n",
       "      <td>0</td>\n",
       "      <td>None</td>\n",
       "    </tr>\n",
       "  </tbody>\n",
       "</table>\n",
       "</div>"
      ],
      "text/plain": [
       "      Macao  Chinese  Japan  Beijing  Tokyo  Shanghai Class\n",
       "doc1      0        2      0        1      0         0   Yes\n",
       "doc2      0        2      0        0      1         1   Yes\n",
       "doc3      1        1      0        0      0         0   Yes\n",
       "doc4      0        1      1        0      1         0    No\n",
       "doc5      0        3      1        0      1         0  None"
      ]
     },
     "execution_count": 10,
     "metadata": {},
     "output_type": "execute_result"
    }
   ],
   "source": [
    "df_tdm_transpose['Class'] = ['Yes', 'Yes', 'Yes', 'No', None]\n",
    "df_tdm_transpose"
   ]
  },
  {
   "cell_type": "code",
   "execution_count": 11,
   "id": "97707315-8a47-427c-beb9-dd8c47642117",
   "metadata": {
    "tags": []
   },
   "outputs": [],
   "source": [
    "def cosine_similarity(data_x, data_y) -> float:\n",
    "    numerator = sum(x * y for x, y in zip(data_x, data_y))\n",
    "    denominator = math.sqrt(sum([x ** 2 for x in data_x])) * math.sqrt(sum([y ** 2 for y in data_y]))\n",
    "    return numerator / denominator if denominator != 0 else 0\n",
    "\n",
    "def manhattan_distance(data_x, data_y) -> float:\n",
    "    return sum(abs(x - y) for x, y in zip(data_x, data_y))\n",
    "\n",
    "def euclidean_distance(data_x, data_y) -> float:\n",
    "    return math.sqrt(sum((x - y) ** 2 for x, y in zip(data_x, data_y)))\n",
    "\n",
    "def dual_weight(d_i, d_1, d_k) -> float:\n",
    "    if d_k != d_1:\n",
    "        return ((d_k - d_i) / (d_k - d_1)) * ((d_k + d_1) / (d_k + d_i))\n",
    "    else:\n",
    "        return 1.0\n",
    "\n",
    "def simple_weight(d_i, d_1, d_k) -> float:\n",
    "    if d_k != d_1:\n",
    "        return (d_k - d_i) / (d_k - d_1)\n",
    "    else:\n",
    "        return 1.0\n",
    "\n",
    "def compute_distance(row_test, row_train, distance):\n",
    "    if distance == \"manhattan\":\n",
    "        return manhattan_distance(row_test, row_train)\n",
    "    elif distance == \"euclidean\":\n",
    "        return euclidean_distance(row_test, row_train)\n",
    "    elif distance == \"cosine\":\n",
    "        return cosine_similarity(row_test, row_train)\n",
    "    else:\n",
    "        raise NotImplementedError(f\"Distance measure '{distance}' is not implemented\")\n",
    "\n",
    "def compute_weights(k_nearest, weighted):\n",
    "    d_1 = k_nearest[0][1]\n",
    "    d_k = k_nearest[-1][1]\n",
    "    if weighted == 'dwknn':\n",
    "        return [dual_weight(k_nearest[i][1], d_1, d_k) for i in range(len(k_nearest))]\n",
    "    elif weighted == 'wknn':\n",
    "        return [simple_weight(k_nearest[i][1], d_1, d_k) for i in range(len(k_nearest))]\n",
    "    else:\n",
    "        return [1] * len(k_nearest)\n",
    "\n",
    "def knn_classifier(df_train, df_test, k, distance, weighted='none'):\n",
    "    predictions = []\n",
    "    \n",
    "    for _, row_test in df_test.iterrows():\n",
    "        # Step 1: Compute distances\n",
    "        distances = [\n",
    "            (index_train, compute_distance(row_test.drop('Class'), row_train.drop('Class'), distance))\n",
    "            for index_train, row_train in df_train.iterrows()\n",
    "        ]\n",
    "        \n",
    "        # Step 2: Sort distances\n",
    "        distances.sort(key=lambda x: x[1], reverse=(distance == \"cosine\"))\n",
    "        \n",
    "        # Step 3: Select k nearest neighbors\n",
    "        k_nearest = distances[:k]\n",
    "        \n",
    "        # Step 4: Compute weights\n",
    "        weights = compute_weights(k_nearest, weighted)\n",
    "        \n",
    "        # Step 5: Get nearest labels and apply weights\n",
    "        nearest_labels = [(df_train.loc[index]['Class'], weight) for (index, _), weight in zip(k_nearest, weights)]\n",
    "        \n",
    "        # Step 6: Make prediction\n",
    "        class_votes = {}\n",
    "        for label, weight in nearest_labels:\n",
    "            class_votes[label] = class_votes.get(label, 0) + weight\n",
    "        prediction = max(class_votes.items(), key=lambda x: x[1])[0]\n",
    "        predictions.append((row_test.name, prediction))\n",
    "    \n",
    "    return predictions"
   ]
  },
  {
   "cell_type": "code",
   "execution_count": 12,
   "id": "a291dc54-5562-4c4e-8049-1f92c9446f73",
   "metadata": {
    "tags": []
   },
   "outputs": [
    {
     "name": "stdout",
     "output_type": "stream",
     "text": [
      "Cosine Simmilarity: 1.0\n",
      "Manhattan Distance: 0\n",
      "Euclidean Distance: 0.0\n"
     ]
    }
   ],
   "source": [
    "data1 = [1, 2, 2, 3, -3]\n",
    "data2 = [1, 2, 2, 3, -3]\n",
    "\n",
    "print(f\"Cosine Simmilarity: {cosine_similarity(data1, data2)}\") # mencari kemiripan, semakin mendekati nilai 1 maka tingkat kemiripannya tinggi\n",
    "print(f\"Manhattan Distance: {manhattan_distance(data1, data2)}\") # mencari jarak/beda/selisih, semakin mendekati nilai 0 maka jaraknya semakin dekat\\\n",
    "print(f\"Euclidean Distance: {euclidean_distance(data1, data2)}\") # mencari jarak/beda/selisih, semakin mendekati nilai 0 maka jaraknya semakin dekat\\"
   ]
  },
  {
   "cell_type": "code",
   "execution_count": 13,
   "id": "61fe9186-f70a-45ec-9404-a7602d2064ae",
   "metadata": {},
   "outputs": [
    {
     "data": {
      "text/html": [
       "<div>\n",
       "<style scoped>\n",
       "    .dataframe tbody tr th:only-of-type {\n",
       "        vertical-align: middle;\n",
       "    }\n",
       "\n",
       "    .dataframe tbody tr th {\n",
       "        vertical-align: top;\n",
       "    }\n",
       "\n",
       "    .dataframe thead th {\n",
       "        text-align: right;\n",
       "    }\n",
       "</style>\n",
       "<table border=\"1\" class=\"dataframe\">\n",
       "  <thead>\n",
       "    <tr style=\"text-align: right;\">\n",
       "      <th></th>\n",
       "      <th>Macao</th>\n",
       "      <th>Chinese</th>\n",
       "      <th>Japan</th>\n",
       "      <th>Beijing</th>\n",
       "      <th>Tokyo</th>\n",
       "      <th>Shanghai</th>\n",
       "      <th>Class</th>\n",
       "    </tr>\n",
       "  </thead>\n",
       "  <tbody>\n",
       "    <tr>\n",
       "      <th>doc1</th>\n",
       "      <td>0</td>\n",
       "      <td>2</td>\n",
       "      <td>0</td>\n",
       "      <td>1</td>\n",
       "      <td>0</td>\n",
       "      <td>0</td>\n",
       "      <td>Yes</td>\n",
       "    </tr>\n",
       "    <tr>\n",
       "      <th>doc2</th>\n",
       "      <td>0</td>\n",
       "      <td>2</td>\n",
       "      <td>0</td>\n",
       "      <td>0</td>\n",
       "      <td>1</td>\n",
       "      <td>1</td>\n",
       "      <td>Yes</td>\n",
       "    </tr>\n",
       "    <tr>\n",
       "      <th>doc3</th>\n",
       "      <td>1</td>\n",
       "      <td>1</td>\n",
       "      <td>0</td>\n",
       "      <td>0</td>\n",
       "      <td>0</td>\n",
       "      <td>0</td>\n",
       "      <td>Yes</td>\n",
       "    </tr>\n",
       "    <tr>\n",
       "      <th>doc4</th>\n",
       "      <td>0</td>\n",
       "      <td>1</td>\n",
       "      <td>1</td>\n",
       "      <td>0</td>\n",
       "      <td>1</td>\n",
       "      <td>0</td>\n",
       "      <td>No</td>\n",
       "    </tr>\n",
       "  </tbody>\n",
       "</table>\n",
       "</div>"
      ],
      "text/plain": [
       "      Macao  Chinese  Japan  Beijing  Tokyo  Shanghai Class\n",
       "doc1      0        2      0        1      0         0   Yes\n",
       "doc2      0        2      0        0      1         1   Yes\n",
       "doc3      1        1      0        0      0         0   Yes\n",
       "doc4      0        1      1        0      1         0    No"
      ]
     },
     "execution_count": 13,
     "metadata": {},
     "output_type": "execute_result"
    }
   ],
   "source": [
    "df_train = df_tdm_transpose.iloc[:4]\n",
    "df_train"
   ]
  },
  {
   "cell_type": "code",
   "execution_count": 14,
   "id": "5e1b2cd5-90b8-4e1a-8ecd-e732a8410151",
   "metadata": {
    "tags": []
   },
   "outputs": [
    {
     "data": {
      "text/html": [
       "<div>\n",
       "<style scoped>\n",
       "    .dataframe tbody tr th:only-of-type {\n",
       "        vertical-align: middle;\n",
       "    }\n",
       "\n",
       "    .dataframe tbody tr th {\n",
       "        vertical-align: top;\n",
       "    }\n",
       "\n",
       "    .dataframe thead th {\n",
       "        text-align: right;\n",
       "    }\n",
       "</style>\n",
       "<table border=\"1\" class=\"dataframe\">\n",
       "  <thead>\n",
       "    <tr style=\"text-align: right;\">\n",
       "      <th></th>\n",
       "      <th>Macao</th>\n",
       "      <th>Chinese</th>\n",
       "      <th>Japan</th>\n",
       "      <th>Beijing</th>\n",
       "      <th>Tokyo</th>\n",
       "      <th>Shanghai</th>\n",
       "      <th>Class</th>\n",
       "    </tr>\n",
       "  </thead>\n",
       "  <tbody>\n",
       "    <tr>\n",
       "      <th>doc5</th>\n",
       "      <td>0</td>\n",
       "      <td>3</td>\n",
       "      <td>1</td>\n",
       "      <td>0</td>\n",
       "      <td>1</td>\n",
       "      <td>0</td>\n",
       "      <td>None</td>\n",
       "    </tr>\n",
       "  </tbody>\n",
       "</table>\n",
       "</div>"
      ],
      "text/plain": [
       "      Macao  Chinese  Japan  Beijing  Tokyo  Shanghai Class\n",
       "doc5      0        3      1        0      1         0  None"
      ]
     },
     "execution_count": 14,
     "metadata": {},
     "output_type": "execute_result"
    }
   ],
   "source": [
    "df_test =  df_tdm_transpose.iloc[4:]\n",
    "df_test"
   ]
  },
  {
   "cell_type": "markdown",
   "id": "1cd28281-f2da-4136-bb53-4e4633cdba81",
   "metadata": {},
   "source": [
    "## KNN"
   ]
  },
  {
   "cell_type": "code",
   "execution_count": 15,
   "id": "c9fe574b-1b75-42cb-84f7-965ce4f370f8",
   "metadata": {
    "tags": []
   },
   "outputs": [
    {
     "name": "stdout",
     "output_type": "stream",
     "text": [
      "K: 1 | Distance: manhattan | Predictions: [('doc5', 'No')]\n",
      "K: 1 | Distance: euclidean | Predictions: [('doc5', 'Yes')]\n",
      "K: 1 | Distance: cosine | Predictions: [('doc5', 'No')]\n",
      "\n",
      "K: 3 | Distance: manhattan | Predictions: [('doc5', 'Yes')]\n",
      "K: 3 | Distance: euclidean | Predictions: [('doc5', 'Yes')]\n",
      "K: 3 | Distance: cosine | Predictions: [('doc5', 'Yes')]\n",
      "\n",
      "K: 5 | Distance: manhattan | Predictions: [('doc5', 'Yes')]\n",
      "K: 5 | Distance: euclidean | Predictions: [('doc5', 'Yes')]\n",
      "K: 5 | Distance: cosine | Predictions: [('doc5', 'Yes')]\n",
      "\n",
      "K: 7 | Distance: manhattan | Predictions: [('doc5', 'Yes')]\n",
      "K: 7 | Distance: euclidean | Predictions: [('doc5', 'Yes')]\n",
      "K: 7 | Distance: cosine | Predictions: [('doc5', 'Yes')]\n",
      "\n",
      "K: 9 | Distance: manhattan | Predictions: [('doc5', 'Yes')]\n",
      "K: 9 | Distance: euclidean | Predictions: [('doc5', 'Yes')]\n",
      "K: 9 | Distance: cosine | Predictions: [('doc5', 'Yes')]\n",
      "\n",
      "K: 11 | Distance: manhattan | Predictions: [('doc5', 'Yes')]\n",
      "K: 11 | Distance: euclidean | Predictions: [('doc5', 'Yes')]\n",
      "K: 11 | Distance: cosine | Predictions: [('doc5', 'Yes')]\n",
      "\n"
     ]
    }
   ],
   "source": [
    "k = [x for x in range(1, 13, 2)]\n",
    "distance = ['manhattan', 'euclidean', 'cosine']\n",
    "for x in k:\n",
    "    for y in distance:\n",
    "        predictions = knn_classifier(df_train, df_test, x, y)\n",
    "        print(f\"K: {x} | Distance: {y} | Predictions: {predictions}\")\n",
    "    print()"
   ]
  },
  {
   "cell_type": "markdown",
   "id": "5c77e6be-b9ab-48e3-ad31-82de9aa41c38",
   "metadata": {},
   "source": [
    " ## Weighted KNN (WKNN)"
   ]
  },
  {
   "cell_type": "code",
   "execution_count": 16,
   "id": "c4558098-250a-40ed-8cf3-1a23ac3b97bd",
   "metadata": {},
   "outputs": [
    {
     "name": "stdout",
     "output_type": "stream",
     "text": [
      "K: 1 | Distance: manhattan | Predictions: [('doc5', 'No')]\n",
      "K: 1 | Distance: euclidean | Predictions: [('doc5', 'Yes')]\n",
      "K: 1 | Distance: cosine | Predictions: [('doc5', 'No')]\n",
      "\n",
      "K: 3 | Distance: manhattan | Predictions: [('doc5', 'No')]\n",
      "K: 3 | Distance: euclidean | Predictions: [('doc5', 'Yes')]\n",
      "K: 3 | Distance: cosine | Predictions: [('doc5', 'No')]\n",
      "\n",
      "K: 5 | Distance: manhattan | Predictions: [('doc5', 'No')]\n",
      "K: 5 | Distance: euclidean | Predictions: [('doc5', 'Yes')]\n",
      "K: 5 | Distance: cosine | Predictions: [('doc5', 'Yes')]\n",
      "\n",
      "K: 7 | Distance: manhattan | Predictions: [('doc5', 'No')]\n",
      "K: 7 | Distance: euclidean | Predictions: [('doc5', 'Yes')]\n",
      "K: 7 | Distance: cosine | Predictions: [('doc5', 'Yes')]\n",
      "\n",
      "K: 9 | Distance: manhattan | Predictions: [('doc5', 'No')]\n",
      "K: 9 | Distance: euclidean | Predictions: [('doc5', 'Yes')]\n",
      "K: 9 | Distance: cosine | Predictions: [('doc5', 'Yes')]\n",
      "\n",
      "K: 11 | Distance: manhattan | Predictions: [('doc5', 'No')]\n",
      "K: 11 | Distance: euclidean | Predictions: [('doc5', 'Yes')]\n",
      "K: 11 | Distance: cosine | Predictions: [('doc5', 'Yes')]\n",
      "\n"
     ]
    }
   ],
   "source": [
    "k = [x for x in range(1, 13, 2)]\n",
    "distance = ['manhattan', 'euclidean', 'cosine']\n",
    "for x in k:\n",
    "    for y in distance:\n",
    "        predictions = knn_classifier(df_train, df_test, x, y, weighted='wknn')\n",
    "        print(f\"K: {x} | Distance: {y} | Predictions: {predictions}\")\n",
    "    print()"
   ]
  },
  {
   "cell_type": "markdown",
   "id": "63153bb8-93b5-419f-8c25-9b02fd1f92d6",
   "metadata": {},
   "source": [
    "## Dual Weighted KNN (DWKNN)"
   ]
  },
  {
   "cell_type": "code",
   "execution_count": 17,
   "id": "45a2b577-66a6-457d-8a0f-eea07d26a903",
   "metadata": {},
   "outputs": [
    {
     "name": "stdout",
     "output_type": "stream",
     "text": [
      "K: 1 | Distance: manhattan | Predictions: [('doc5', 'No')]\n",
      "K: 1 | Distance: euclidean | Predictions: [('doc5', 'Yes')]\n",
      "K: 1 | Distance: cosine | Predictions: [('doc5', 'No')]\n",
      "\n",
      "K: 3 | Distance: manhattan | Predictions: [('doc5', 'No')]\n",
      "K: 3 | Distance: euclidean | Predictions: [('doc5', 'Yes')]\n",
      "K: 3 | Distance: cosine | Predictions: [('doc5', 'No')]\n",
      "\n",
      "K: 5 | Distance: manhattan | Predictions: [('doc5', 'No')]\n",
      "K: 5 | Distance: euclidean | Predictions: [('doc5', 'Yes')]\n",
      "K: 5 | Distance: cosine | Predictions: [('doc5', 'Yes')]\n",
      "\n",
      "K: 7 | Distance: manhattan | Predictions: [('doc5', 'No')]\n",
      "K: 7 | Distance: euclidean | Predictions: [('doc5', 'Yes')]\n",
      "K: 7 | Distance: cosine | Predictions: [('doc5', 'Yes')]\n",
      "\n",
      "K: 9 | Distance: manhattan | Predictions: [('doc5', 'No')]\n",
      "K: 9 | Distance: euclidean | Predictions: [('doc5', 'Yes')]\n",
      "K: 9 | Distance: cosine | Predictions: [('doc5', 'Yes')]\n",
      "\n",
      "K: 11 | Distance: manhattan | Predictions: [('doc5', 'No')]\n",
      "K: 11 | Distance: euclidean | Predictions: [('doc5', 'Yes')]\n",
      "K: 11 | Distance: cosine | Predictions: [('doc5', 'Yes')]\n",
      "\n"
     ]
    }
   ],
   "source": [
    "k = [x for x in range(1, 13, 2)]\n",
    "distance = ['manhattan', 'euclidean', 'cosine']\n",
    "for x in k:\n",
    "    for y in distance:\n",
    "        predictions = knn_classifier(df_train, df_test, x, y, weighted='dwknn')\n",
    "        print(f\"K: {x} | Distance: {y} | Predictions: {predictions}\")\n",
    "    print()"
   ]
  }
 ],
 "metadata": {
  "kernelspec": {
   "display_name": "Python 3 (ipykernel)",
   "language": "python",
   "name": "python3"
  },
  "language_info": {
   "codemirror_mode": {
    "name": "ipython",
    "version": 3
   },
   "file_extension": ".py",
   "mimetype": "text/x-python",
   "name": "python",
   "nbconvert_exporter": "python",
   "pygments_lexer": "ipython3",
   "version": "3.10.10"
  }
 },
 "nbformat": 4,
 "nbformat_minor": 5
}
